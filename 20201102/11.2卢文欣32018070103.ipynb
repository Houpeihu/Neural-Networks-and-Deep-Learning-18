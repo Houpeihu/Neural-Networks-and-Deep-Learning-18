{
 "cells": [
  {
   "cell_type": "code",
   "execution_count": 107,
   "metadata": {},
   "outputs": [],
   "source": [
    "import numpy as np\n",
    "import pandas as pd\n",
    "from sklearn.model_selection import train_test_split"
   ]
  },
  {
   "cell_type": "code",
   "execution_count": null,
   "metadata": {},
   "outputs": [],
   "source": []
  },
  {
   "cell_type": "code",
   "execution_count": 108,
   "metadata": {},
   "outputs": [
    {
     "name": "stdout",
     "output_type": "stream",
     "text": [
      "[0. 0. 0. 0. 0. 0. 0. 0. 0. 0. 0. 0. 0. 0. 0. 0. 0. 0. 0. 0. 0. 0. 0. 0.\n",
      " 0. 0. 0. 0. 0. 0. 0. 0. 0. 0. 0. 0. 0. 0. 0. 0. 0. 0. 0. 0. 0. 0. 0. 0.\n",
      " 0. 1. 1. 1. 1. 1. 1. 1. 1. 1. 1. 1. 1. 1. 1. 1. 1. 1. 1. 1. 1. 1. 1. 1.\n",
      " 1. 1. 1. 1. 1. 1. 1. 1. 1. 1. 1. 1. 1. 1. 1. 1. 1. 1. 1. 1. 1. 1. 1. 1.\n",
      " 1. 1. 1. 2. 2. 2. 2. 2. 2. 2. 2. 2. 2. 2. 2. 2. 2. 2. 2. 2. 2. 2. 2. 2.\n",
      " 2. 2. 2. 2. 2. 2. 2. 2. 2. 2. 2. 2. 2. 2. 2. 2. 2. 2. 2. 2. 2. 2. 2. 2.\n",
      " 2. 2. 2. 2. 2.]\n"
     ]
    }
   ],
   "source": [
    "# 读取数据\n",
    "f=open('C:\\\\Users\\\\12700\\\\Desktop\\\\网课\\\\人工网络神经\\\\11.2\\\\iris.txt')\n",
    "raw = pd.read_csv(f)\n",
    "X=raw.values[:,0:4]\n",
    "ln=len(raw)\n",
    "y=np.zeros(shape=(ln))\n",
    "for i in range(ln):\n",
    "    if raw.values[i][4] == 'Iris-setosa':\n",
    "        y[i]=0\n",
    "    elif raw.values[i][4] == 'Iris-versicolor':\n",
    "        y[i]=1\n",
    "    else:\n",
    "        y[i]=2\n",
    "print(y)"
   ]
  },
  {
   "cell_type": "code",
   "execution_count": 109,
   "metadata": {},
   "outputs": [],
   "source": [
    "#归一化\n",
    "X=X/8*0.99+0.01\n",
    "def sigmoid(z):\n",
    "    \"\"\"The sigmoid function.\"\"\"\n",
    "    return 1.0/(1.0+np.exp(-z))\n",
    "def accuasy_score(y_true,y_predict):\n",
    "    return sum(y_true==y_predict)/len(y_true)"
   ]
  },
  {
   "cell_type": "code",
   "execution_count": 110,
   "metadata": {},
   "outputs": [],
   "source": [
    "#划分训练集和测试集\n",
    "X=np.array(X,dtype=np.float64)\n",
    "X_train,X_test,y_train,y_test=train_test_split(X,y)"
   ]
  },
  {
   "cell_type": "code",
   "execution_count": 111,
   "metadata": {},
   "outputs": [
    {
     "data": {
      "text/plain": [
       "array([[0.99, 0.01, 0.01],\n",
       "       [0.01, 0.01, 0.99],\n",
       "       [0.99, 0.01, 0.01],\n",
       "       [0.01, 0.01, 0.99],\n",
       "       [0.01, 0.99, 0.01],\n",
       "       [0.01, 0.01, 0.99],\n",
       "       [0.01, 0.99, 0.01],\n",
       "       [0.01, 0.99, 0.01],\n",
       "       [0.99, 0.01, 0.01],\n",
       "       [0.99, 0.01, 0.01],\n",
       "       [0.99, 0.01, 0.01],\n",
       "       [0.01, 0.99, 0.01],\n",
       "       [0.01, 0.01, 0.99],\n",
       "       [0.99, 0.01, 0.01],\n",
       "       [0.99, 0.01, 0.01],\n",
       "       [0.99, 0.01, 0.01],\n",
       "       [0.01, 0.01, 0.99],\n",
       "       [0.99, 0.01, 0.01],\n",
       "       [0.01, 0.99, 0.01],\n",
       "       [0.99, 0.01, 0.01],\n",
       "       [0.01, 0.99, 0.01],\n",
       "       [0.01, 0.99, 0.01],\n",
       "       [0.99, 0.01, 0.01],\n",
       "       [0.99, 0.01, 0.01],\n",
       "       [0.01, 0.01, 0.99],\n",
       "       [0.01, 0.01, 0.99],\n",
       "       [0.01, 0.01, 0.99],\n",
       "       [0.01, 0.01, 0.99],\n",
       "       [0.01, 0.99, 0.01],\n",
       "       [0.01, 0.99, 0.01],\n",
       "       [0.99, 0.01, 0.01],\n",
       "       [0.99, 0.01, 0.01],\n",
       "       [0.99, 0.01, 0.01],\n",
       "       [0.01, 0.99, 0.01],\n",
       "       [0.99, 0.01, 0.01],\n",
       "       [0.01, 0.99, 0.01],\n",
       "       [0.01, 0.99, 0.01],\n",
       "       [0.01, 0.99, 0.01],\n",
       "       [0.01, 0.01, 0.99],\n",
       "       [0.01, 0.01, 0.99],\n",
       "       [0.01, 0.01, 0.99],\n",
       "       [0.01, 0.99, 0.01],\n",
       "       [0.01, 0.99, 0.01],\n",
       "       [0.01, 0.01, 0.99],\n",
       "       [0.99, 0.01, 0.01],\n",
       "       [0.01, 0.01, 0.99],\n",
       "       [0.01, 0.99, 0.01],\n",
       "       [0.99, 0.01, 0.01],\n",
       "       [0.01, 0.99, 0.01],\n",
       "       [0.01, 0.01, 0.99],\n",
       "       [0.01, 0.99, 0.01],\n",
       "       [0.99, 0.01, 0.01],\n",
       "       [0.99, 0.01, 0.01],\n",
       "       [0.01, 0.01, 0.99],\n",
       "       [0.01, 0.99, 0.01],\n",
       "       [0.99, 0.01, 0.01],\n",
       "       [0.01, 0.99, 0.01],\n",
       "       [0.01, 0.01, 0.99],\n",
       "       [0.01, 0.99, 0.01],\n",
       "       [0.99, 0.01, 0.01],\n",
       "       [0.99, 0.01, 0.01],\n",
       "       [0.99, 0.01, 0.01],\n",
       "       [0.01, 0.01, 0.99],\n",
       "       [0.01, 0.01, 0.99],\n",
       "       [0.01, 0.01, 0.99],\n",
       "       [0.01, 0.99, 0.01],\n",
       "       [0.01, 0.01, 0.99],\n",
       "       [0.01, 0.99, 0.01],\n",
       "       [0.01, 0.01, 0.99],\n",
       "       [0.99, 0.01, 0.01],\n",
       "       [0.01, 0.99, 0.01],\n",
       "       [0.01, 0.99, 0.01],\n",
       "       [0.01, 0.01, 0.99],\n",
       "       [0.99, 0.01, 0.01],\n",
       "       [0.99, 0.01, 0.01],\n",
       "       [0.01, 0.99, 0.01],\n",
       "       [0.99, 0.01, 0.01],\n",
       "       [0.01, 0.01, 0.99],\n",
       "       [0.01, 0.01, 0.99],\n",
       "       [0.99, 0.01, 0.01],\n",
       "       [0.01, 0.01, 0.99],\n",
       "       [0.01, 0.01, 0.99],\n",
       "       [0.99, 0.01, 0.01],\n",
       "       [0.01, 0.99, 0.01],\n",
       "       [0.99, 0.01, 0.01],\n",
       "       [0.01, 0.99, 0.01],\n",
       "       [0.01, 0.99, 0.01],\n",
       "       [0.99, 0.01, 0.01],\n",
       "       [0.01, 0.01, 0.99],\n",
       "       [0.99, 0.01, 0.01],\n",
       "       [0.01, 0.01, 0.99],\n",
       "       [0.99, 0.01, 0.01],\n",
       "       [0.01, 0.99, 0.01],\n",
       "       [0.01, 0.01, 0.99],\n",
       "       [0.01, 0.99, 0.01],\n",
       "       [0.99, 0.01, 0.01],\n",
       "       [0.01, 0.01, 0.99],\n",
       "       [0.01, 0.01, 0.99],\n",
       "       [0.01, 0.01, 0.99],\n",
       "       [0.01, 0.01, 0.99],\n",
       "       [0.01, 0.99, 0.01],\n",
       "       [0.01, 0.01, 0.99],\n",
       "       [0.01, 0.01, 0.99],\n",
       "       [0.01, 0.99, 0.01],\n",
       "       [0.01, 0.99, 0.01],\n",
       "       [0.01, 0.99, 0.01],\n",
       "       [0.99, 0.01, 0.01],\n",
       "       [0.99, 0.01, 0.01],\n",
       "       [0.01, 0.01, 0.99],\n",
       "       [0.01, 0.01, 0.99],\n",
       "       [0.01, 0.01, 0.99]])"
      ]
     },
     "execution_count": 111,
     "metadata": {},
     "output_type": "execute_result"
    }
   ],
   "source": [
    "oneHot=np.identity(3)\n",
    "for i in range(oneHot.shape[0]):\n",
    "    for j in range(oneHot.shape[1]):\n",
    "        if(oneHot[i,j]==1):\n",
    "            oneHot[i,j]=0.99\n",
    "        else:\n",
    "            oneHot[i,j]=0.01\n",
    "y_true=oneHot[y_train.astype('int64')]\n",
    "y_true"
   ]
  },
  {
   "cell_type": "code",
   "execution_count": 112,
   "metadata": {},
   "outputs": [
    {
     "data": {
      "text/plain": [
       "0.9736842105263158"
      ]
     },
     "execution_count": 112,
     "metadata": {},
     "output_type": "execute_result"
    }
   ],
   "source": [
    "W1=np.random.normal(0.0,1,(4,8))\n",
    "W2=np.random.normal(0.0,1,(8,3))\n",
    "eta=0.01\n",
    "for i in range(1000):\n",
    "    out1=np.dot(X_train,W1)\n",
    "    act1=sigmoid(out1)\n",
    "    out2=np.dot(act1,W2)\n",
    "    act2=sigmoid(out2)\n",
    "    \n",
    "    error=y_true-act2\n",
    "    hErr=np.dot(error,W2.T)\n",
    "    W2_=np.dot(act1.T,-error*act2*(1-act2))#w2_为w2的导\n",
    "    W1_=np.dot(X_train.T,-hErr*act1*(1-act1))\n",
    "    \n",
    "    W2-=W2_*eta\n",
    "    W1-=W1_*eta\n",
    "    \n",
    "o1=np.dot(X_test,W1)\n",
    "a1=sigmoid(o1)\n",
    "o2=np.dot(a1,W2)\n",
    "a2=sigmoid(o2)\n",
    "\n",
    "rs=[]\n",
    "for i in range(a2.shape[0]):\n",
    "    rs.append(np.argmax(a2[i]))\n",
    "rs=np.array(rs)\n",
    "\n",
    "accuasy_score(y_test,rs)"
   ]
  },
  {
   "cell_type": "code",
   "execution_count": null,
   "metadata": {},
   "outputs": [],
   "source": []
  },
  {
   "cell_type": "code",
   "execution_count": null,
   "metadata": {},
   "outputs": [],
   "source": []
  }
 ],
 "metadata": {
  "kernelspec": {
   "display_name": "Python 3",
   "language": "python",
   "name": "python3"
  },
  "language_info": {
   "codemirror_mode": {
    "name": "ipython",
    "version": 3
   },
   "file_extension": ".py",
   "mimetype": "text/x-python",
   "name": "python",
   "nbconvert_exporter": "python",
   "pygments_lexer": "ipython3",
   "version": "3.7.0"
  }
 },
 "nbformat": 4,
 "nbformat_minor": 2
}
