{
 "cells": [
  {
   "cell_type": "code",
   "execution_count": 4,
   "metadata": {},
   "outputs": [
    {
     "name": "stdout",
     "output_type": "stream",
     "text": [
      "Cost after iteration 0: 1.041733\n",
      "Cost after iteration 1000: 0.278238\n",
      "Cost after iteration 2000: 0.275367\n",
      "Cost after iteration 3000: 0.273691\n",
      "Cost after iteration 4000: 0.272287\n",
      "Cost after iteration 5000: 0.271111\n",
      "Cost after iteration 6000: 0.270065\n",
      "Cost after iteration 7000: 0.269067\n",
      "Cost after iteration 8000: 0.268080\n",
      "Cost after iteration 9000: 0.267089\n",
      "[[0.  0.  0.  0.  0.  0.  0.  0.  0.  0.  0.  0.  0.  0.  0.  0.  0.  0.\n",
      "  0.  0.  0.5 0.5 0.5 1.  0.5 0.5 0.5 0.5 0.5 0.5 0.5 0.5 0.5 0.5 0.5 0.5\n",
      "  0.5 0.5 0.5 0.5 1.  1.  1.  1.  1.  1.  1.  1.  1.  1.  1.  1.  1.  1.\n",
      "  1.  1.  1.  1.  1.  1. ]]\n",
      "准确率为：98.333333 %\n"
     ]
    },
    {
     "data": {
      "image/png": "[encoded data removed]",
      "text/plain": [
       "<Figure size 432x288 with 1 Axes>"
      ]
     },
     "metadata": {
      "needs_background": "light"
     },
     "output_type": "display_data"
    }
   ],
   "source": [
    "import numpy as np\n",
    "import matplotlib.pyplot as plt\n",
    "from Forward_NeuralNetwork import *\n",
    "\n",
    "with open(\"iris.txt\", 'r') as f:\n",
    "    data = f.read()\n",
    "    data = data.replace('Iris-setosa', '0,')\n",
    "    data = data.replace('Iris-versicolor', '0.5,')\n",
    "    data = data.replace('Iris-virginica', '1,')\n",
    "with open(\"iris1.txt\", 'w') as fw:\n",
    "    fw.write(data)\n",
    "    fw.close()       \n",
    "\n",
    "def load_txt():\n",
    "    \"\"\"加载处理好存入txt格式的数据\"\"\"\n",
    "    tmp = np.loadtxt(\"iris1.txt\",dtype=np.str, delimiter=\",\")\n",
    "    data = tmp[0:, 0:4].astype(np.float)\n",
    "    label = tmp[0:, 4].astype(np.float)\n",
    "    label = label.reshape(150, 1)\n",
    "    return data.T, label.T\n",
    "\n",
    "\n",
    "def normalized(X):\n",
    "    \"\"\"\n",
    "    :param X: 待归一化的数据 \n",
    "\t:return: \n",
    "\tX：归一化后的数据\n",
    "\t\"\"\"\n",
    "    Xmin, Xmax = X.min(), X.max()\n",
    "    XN = (X - Xmin) / (Xmax - Xmin)\n",
    "    return XN\n",
    "\n",
    "def main():\n",
    "\n",
    "    X, Y = load_txt()\n",
    "    X = normalized(X)\n",
    "    Y = normalized(Y)\n",
    "    \"\"\"训练集90个数据\"\"\"\n",
    "    train_x = np.hstack((X[:, 0:30], X[:, 50:80], X[:, 100:130]))\n",
    "    train_y = np.hstack((Y[:, 0:30], Y[:, 50:80], Y[:, 100:130]))\n",
    "    \"\"\"测试集60个数据\"\"\"\n",
    "    test_x = np.hstack((X[:, 30:50], X[:, 80:100], X[:, 130:150]))\n",
    "    test_y = np.hstack((Y[:, 30:50], Y[:, 80:100], Y[:, 130:150]))\n",
    "    \"\"\"训练，中间层10个神经元，迭代10000次，学习率0.25\"\"\"\n",
    "    n_h = 10\n",
    "    parameter, cost_list = nn_model(train_x, train_y, n_h, num_iterations=10000, learning_rate=0.25, print_cost=True)\n",
    "    \"\"\"测试，代入测试集数据\"\"\"\n",
    "    A2, cache = forward_propagation(test_x, parameters=parameter)\n",
    "    TY = A2\n",
    "    TY[TY > 0.8] = 1\n",
    "    TY[TY < 0.2] = 0\n",
    "    TY[(TY >= 0.2) & (TY <= 0.8)] = 0.5\n",
    "    print(A2)\n",
    "    count = 0\n",
    "    for i in range(0, 60):\n",
    "        if TY[0, i] == test_y[0, i]:\n",
    "            count += 1\n",
    "    print(\"准确率为：%f %%\" %(100*count/60))\n",
    "    \"\"\"绘制梯度下降曲线\"\"\"\n",
    "    plt.plot(cost_list)\n",
    "    plt.xlabel(\"iterations\")\n",
    "    plt.ylabel(\"Cost\")\n",
    "    plt.show()\n",
    "\n",
    "\n",
    "if __name__ == '__main__':\n",
    "    main()"
   ]
  },
  {
   "cell_type": "code",
   "execution_count": null,
   "metadata": {},
   "outputs": [],
   "source": []
  }
 ],
 "metadata": {
  "kernelspec": {
   "display_name": "Python 3",
   "language": "python",
   "name": "python3"
  },
  "language_info": {
   "codemirror_mode": {
    "name": "ipython",
    "version": 3
   },
   "file_extension": ".py",
   "mimetype": "text/x-python",
   "name": "python",
   "nbconvert_exporter": "python",
   "pygments_lexer": "ipython3",
   "version": "3.7.0"
  }
 },
 "nbformat": 4,
 "nbformat_minor": 2
}
