{
 "cells": [
  {
   "cell_type": "code",
   "execution_count": 1,
   "metadata": {},
   "outputs": [
    {
     "data": {
      "text/plain": [
       "['D:\\\\Anaconda3\\\\lib\\\\site-packages\\\\tensorflow_estimator\\\\python\\\\estimator\\\\api',\n",
       " 'D:\\\\Anaconda3\\\\lib\\\\site-packages\\\\tensorflow',\n",
       " 'D:\\\\Anaconda3\\\\lib\\\\site-packages\\\\tensorflow\\\\_api\\\\v1']"
      ]
     },
     "execution_count": 1,
     "metadata": {},
     "output_type": "execute_result"
    }
   ],
   "source": [
    "import tensorflow as tf\n",
    "mnist = tf.keras.datasets.mnist\n",
    "tf.__path__"
   ]
  },
  {
   "cell_type": "code",
   "execution_count": 2,
   "metadata": {},
   "outputs": [],
   "source": [
    "mnist = tf.keras.datasets.mnist\n",
    "(x_train,y_train),(x_test,y_test) = mnist.load_data()"
   ]
  },
  {
   "cell_type": "code",
   "execution_count": null,
   "metadata": {},
   "outputs": [],
   "source": []
  },
  {
   "cell_type": "code",
   "execution_count": 4,
   "metadata": {},
   "outputs": [],
   "source": [
    "x_train, x_test = x_train/255.0, x_test/255.0  # 除以 255 是为了归一化。"
   ]
  },
  {
   "cell_type": "code",
   "execution_count": 5,
   "metadata": {},
   "outputs": [
    {
     "name": "stdout",
     "output_type": "stream",
     "text": [
      "WARNING:tensorflow:From D:\\Anaconda3\\lib\\site-packages\\tensorflow\\python\\ops\\resource_variable_ops.py:435: colocate_with (from tensorflow.python.framework.ops) is deprecated and will be removed in a future version.\n",
      "Instructions for updating:\n",
      "Colocations handled automatically by placer.\n",
      "WARNING:tensorflow:From D:\\Anaconda3\\lib\\site-packages\\tensorflow\\python\\keras\\layers\\core.py:143: calling dropout (from tensorflow.python.ops.nn_ops) with keep_prob is deprecated and will be removed in a future version.\n",
      "Instructions for updating:\n",
      "Please use `rate` instead of `keep_prob`. Rate should be set to `rate = 1 - keep_prob`.\n"
     ]
    }
   ],
   "source": [
    "model = tf.keras.models.Sequential([#Sequential建立序列模型\n",
    "  tf.keras.layers.Flatten(input_shape=(28, 28)),#Flatter层用于展开张量 input_shape定义28*28的图像，展开为张量\n",
    "  tf.keras.layers.Dense(128, activation='relu'),#Dense层：全连接层，输出128个神经元，激活函数relu\n",
    "  tf.keras.layers.Dropout(0.2),#Dropout层用0.2的失活率，以减少过拟合\n",
    "  tf.keras.layers.Dense(10,activation=\"softmax\")\n",
    "])"
   ]
  },
  {
   "cell_type": "code",
   "execution_count": 6,
   "metadata": {},
   "outputs": [],
   "source": [
    "model.compile(optimizer=\"adam\",#优化器：adam\n",
    "              loss=\"sparse_categorical_crossentropy\",#损失函数\n",
    "              metrics=['accuracy'])"
   ]
  },
  {
   "cell_type": "code",
   "execution_count": 8,
   "metadata": {},
   "outputs": [
    {
     "name": "stdout",
     "output_type": "stream",
     "text": [
      "Epoch 1/8\n",
      "60000/60000 [==============================] - 4s 68us/sample - loss: 0.0660 - acc: 0.9789\n",
      "Epoch 2/8\n",
      "60000/60000 [==============================] - 4s 66us/sample - loss: 0.0558 - acc: 0.9820\n",
      "Epoch 3/8\n",
      "60000/60000 [==============================] - 4s 66us/sample - loss: 0.0525 - acc: 0.9833\n",
      "Epoch 4/8\n",
      "60000/60000 [==============================] - 4s 66us/sample - loss: 0.0468 - acc: 0.9849\n",
      "Epoch 5/8\n",
      "60000/60000 [==============================] - 4s 66us/sample - loss: 0.0449 - acc: 0.9853\n",
      "Epoch 6/8\n",
      "60000/60000 [==============================] - 4s 71us/sample - loss: 0.0396 - acc: 0.9868\n",
      "Epoch 7/8\n",
      "60000/60000 [==============================] - 4s 72us/sample - loss: 0.0380 - acc: 0.9874\n",
      "Epoch 8/8\n",
      "60000/60000 [==============================] - 4s 69us/sample - loss: 0.0362 - acc: 0.9872\n",
      "10000/10000 [==============================] - 0s 20us/sample - loss: 0.0706 - acc: 0.9803\n"
     ]
    },
    {
     "data": {
      "text/plain": [
       "[0.0705798667872412, 0.9803]"
      ]
     },
     "execution_count": 8,
     "metadata": {},
     "output_type": "execute_result"
    }
   ],
   "source": [
    "model.fit(x_train,y_train,epochs=8)#fit用于训练模型，epoch迭代8次\n",
    "model.evaluate(x_test,y_test)#评估模型，返回的数值分别是损失和指标"
   ]
  },
  {
   "cell_type": "code",
   "execution_count": null,
   "metadata": {},
   "outputs": [],
   "source": []
  },
  {
   "cell_type": "code",
   "execution_count": null,
   "metadata": {},
   "outputs": [],
   "source": [
    "\n"
   ]
  },
  {
   "cell_type": "code",
   "execution_count": null,
   "metadata": {},
   "outputs": [],
   "source": []
  }
 ],
 "metadata": {
  "kernelspec": {
   "display_name": "Python 3",
   "language": "python",
   "name": "python3"
  },
  "language_info": {
   "codemirror_mode": {
    "name": "ipython",
    "version": 3
   },
   "file_extension": ".py",
   "mimetype": "text/x-python",
   "name": "python",
   "nbconvert_exporter": "python",
   "pygments_lexer": "ipython3",
   "version": "3.7.0"
  }
 },
 "nbformat": 4,
 "nbformat_minor": 2
}
