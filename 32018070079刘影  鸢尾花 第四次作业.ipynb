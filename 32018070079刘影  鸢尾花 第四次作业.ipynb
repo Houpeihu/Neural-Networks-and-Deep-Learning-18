{
 "cells": [
  {
   "cell_type": "code",
   "execution_count": 1,
   "metadata": {},
   "outputs": [
    {
     "ename": "SyntaxError",
     "evalue": "(unicode error) 'unicodeescape' codec can't decode bytes in position 2-3: truncated \\UXXXXXXXX escape (<ipython-input-1-cb0e16ba2f81>, line 27)",
     "output_type": "error",
     "traceback": [
      "\u001b[1;36m  File \u001b[1;32m\"<ipython-input-1-cb0e16ba2f81>\"\u001b[1;36m, line \u001b[1;32m27\u001b[0m\n\u001b[1;33m    iris_path = 'C:\\Users\\Lenovo\\Desktop\\iris(1).csv'\u001b[0m\n\u001b[1;37m               ^\u001b[0m\n\u001b[1;31mSyntaxError\u001b[0m\u001b[1;31m:\u001b[0m (unicode error) 'unicodeescape' codec can't decode bytes in position 2-3: truncated \\UXXXXXXXX escape\n"
     ]
    }
   ],
   "source": [
    "import matplotlib.pyplot as plt\n",
    "import numpy as np\n",
    "\n",
    "\n",
    "def Sigmoid(x):\n",
    "    return 1.0 / (1.0 + np.exp(-x))\n",
    "\n",
    "x = np.arange(-10, 10, 0.1)\n",
    "h = Sigmoid(x)  # Sigmoid函数\n",
    "plt.plot(x, h)\n",
    "plt.axvline(0.0, color='k')\n",
    "plt.axhline(y=0.5, ls='dotted', color='k')\n",
    "plt.yticks([0.0,  0.5, 1.0])  # y axis label\n",
    "plt.title(r'Sigmoid函数曲线', fontsize = 15)\n",
    "plt.text(5,0.8,r'$y = \\frac{1}{1+e^{-z}}$', fontsize = 18)\n",
    "plt.show()\n",
    "import pandas as pd\n",
    "import numpy as np\n",
    "import matplotlib.pyplot as plt\n",
    "import plotly.plotly as py\n",
    "import plotly.graph_objs as go\n",
    "from sklearn.decomposition import PCA\n",
    "\n",
    "from plotly.offline import init_notebook_mode, iplot\n",
    "init_notebook_mode(connected = True)\n",
    "\n",
    "iris_path = 'C:\\Users\\Lenovo\\Desktop\\iris(1).csv'\n",
    "data = pd.read_csv(iris_path)\n",
    "data.head()\n",
    "labels = data.groupby('Species').size().index\n",
    "values = data.groupby('Species').size()\n",
    "trace = go.Pie(labels=labels, values=values)\n",
    "layout = go.Layout(width=350, height=350)\n",
    "fig = go.Figure(data=[trace], layout=layout)\n",
    "iplot(fig)\n",
    "groups = data.groupby(by = \"Species\")\n",
    "means, sds = groups.mean(), groups.std()\n",
    "means.plot(yerr = sds, kind = 'bar', figsize = (9, 5), table = True)\n",
    "plt.show()\n",
    "col_map = {'setosa': 'orange', 'versicolor': 'green', 'virginica': 'pink'}\n",
    "pd.tools.plotting.scatter_matrix(data.loc[:, 'Sepal.Length':'Petal.Width']\n",
    ", diagonal = 'kde', color = [col_map[lb] for lb in data['Species']], s = 75, figsize = (11, 6))\n",
    "plt.show()\n",
    "from sklearn.datasets import load_iris\n",
    "import matplotlib.pyplot as plt\n",
    "iris = load_iris()\n",
    "print(\"Iris Dataset contains %s samples in total，%s features.\"%(iris.data.shape[0], iris.data.shape[1]))\n",
    "iris.data[:5]\n",
    "print(\"Labels' shape %s.\" %(iris.target.shape))\n",
    "iris.target\n",
    "from sklearn.model_selection import train_test_split\n",
    "\n",
    "X = iris.data[:, :2]             # 取前两列数据\n",
    "Y = iris.target\n",
    "\n",
    "x_train, x_test, y_train, y_test = train_test_split(X,Y, test_size = 0.3, random_state = 0)\n",
    "from sklearn.model_selection import train_test_split\n",
    "\n",
    "X = iris.data[:, :2]             # 取前两列数据\n",
    "Y = iris.target\n",
    "\n",
    "x_train, x_test, y_train, y_test = train_test_split(X,Y, test_size = 0.3, random_state = 0)\n",
    "trace = go.Scatter(x = X[:,0], y = X[:,1], mode = 'markers', \n",
    "                    marker = dict(color = np.random.randn(150),size = 10, colorscale='Viridis',showscale=False))\n",
    "layout = go.Layout(title = '训练点', xaxis=dict(title='花萼长度 Sepal length', showgrid=False),\n",
    "                    yaxis=dict(title='花萼宽度 Sepal width',showgrid=False),\n",
    "                    width = 700, height = 380)\n",
    "fig = go.Figure(data=[trace], layout=layout)\n",
    "iplot(fig)\n",
    "from sklearn.linear_model import LogisticRegression\n",
    "\n",
    "# lr = LogisticRegression(C = 1e5) # C: Inverse of regularization strength\n",
    "lr = LogisticRegression(penalty='l2',solver='newton-cg',multi_class='multinomial')\n",
    "lr.fit(x_train,y_train)\n",
    "print(\"Logistic Regression模型训练集的准确率：%.3f\" %lr.score(x_train, y_train))\n",
    "print(\"Logistic Regression模型测试集的准确率：%.3f\" %lr.score(x_test, y_test))"
   ]
  },
  {
   "cell_type": "code",
   "execution_count": null,
   "metadata": {},
   "outputs": [],
   "source": []
  }
 ],
 "metadata": {
  "kernelspec": {
   "display_name": "Python 3",
   "language": "python",
   "name": "python3"
  },
  "language_info": {
   "codemirror_mode": {
    "name": "ipython",
    "version": 3
   },
   "file_extension": ".py",
   "mimetype": "text/x-python",
   "name": "python",
   "nbconvert_exporter": "python",
   "pygments_lexer": "ipython3",
   "version": "3.7.6"
  }
 },
 "nbformat": 4,
 "nbformat_minor": 4
}
