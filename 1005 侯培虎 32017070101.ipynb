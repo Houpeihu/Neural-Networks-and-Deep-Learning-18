{
 "cells": [
  {
   "cell_type": "code",
   "execution_count": null,
   "metadata": {
    "collapsed": true
   },
   "outputs": [],
   "source": [
    "import numpy as np\n",
    "import pandas as pd \n",
    "import matplotlib.pyplot as plt\n",
    "\n",
    "path = 'ex1data2.txt'\n",
    "data2 = pd.read_csv(path, names=['Size', 'Bedrooms', 'Price'])\n",
    "data2 = (data2 - data2.mean()) / data2.std()\n",
    "data2.head()\n",
    "data2.insert(0, 'Ones', 1)\n",
    "cols = data2.shape[1]\n",
    "X2 = data2.iloc[:,0:cols-1]\n",
    "y2 = data2.iloc[:,cols-1:cols]\n",
    "\n",
    "X2 = np.matrix(X2.values)\n",
    "y2 = np.matrix(y2.values)\n",
    "theta2 = np.matrix(np.array([0,0,0]))\n",
    "g2, cost2 = gradientDescent(X2, y2, theta2, alpha, epoch)\n",
    "def compute_cost(X,y,theta):\n",
    "    #print(t_theta.shape)\n",
    "    inner = np.power(((X.dot(theta.T))-y),2) \n",
    "    return sum(inner)/(2*len(X))\n",
    "parameters = int(theta.flatten().shape[0]) \n",
    "alpha = 0.01\n",
    "epoch =100\n",
    "def gradientDescent(X, y, theta, alpha, epoch=1000):\n",
    "    '''return theta, cost'''\n",
    "    temp = np.array(np.zeros(theta.shape)) \n",
    "    parameters = int(theta.flatten().shape[0]) \n",
    "    cost = np.zeros(epoch) \n",
    "    m = X.shape[0] \n",
    "    \n",
    "    for i in range(epoch):\n",
    "        \n",
    "        temp = theta - (alpha/m) * (X.dot(theta.T)- y).T.dot(X) \n",
    "        theta = temp\n",
    "        cost[i] = compute_cost(X, y, theta) \n",
    "    return theta,cost\n",
    "final_theta, cost = gradientDescent(X, y, theta, alpha, epoch)\n",
    "final_cost = compute_cost(X, y, final_theta)\n",
    " \n",
    "population = np.linspace(data.Population.min(), data.Population.max(), 97)\n",
    "population.shape\n",
    "population = np.linspace(data.Population.min(), data.Population.max(), 100) \n",
    "profit = final_theta[0,0] + (final_theta[0,1] * population) \n",
    "\n",
    "fcompute_cost(X2, y2, g2), g2\n",
    "fig, ax = plt.subplots(figsize=(12,8))\n",
    "ax.plot(np.arange(epoch), cost2, 'r')\n",
    "ax.set_xlabel('Iterations')\n",
    "ax.set_ylabel('Cost')\n",
    "ax.set_title('Error vs. Training Epoch')\n",
    "plt.show()\n"
   ]
  }
 ],
 "metadata": {
  "language_info": {
   "codemirror_mode": {
    "name": "ipython",
    "version": 2
   },
   "file_extension": ".py",
   "mimetype": "text/x-python",
   "name": "python",
   "nbconvert_exporter": "python",
   "pygments_lexer": "ipython2",
   "version": "2.7.6"
  },
  "kernelspec": {
   "name": "pycharm-559c1830",
   "language": "python",
   "display_name": "PyCharm (sjwl)"
  },
  "pycharm": {
   "stem_cell": {
    "cell_type": "raw",
    "source": [],
    "metadata": {
     "collapsed": false
    }
   }
  }
 },
 "nbformat": 4,
 "nbformat_minor": 0
}