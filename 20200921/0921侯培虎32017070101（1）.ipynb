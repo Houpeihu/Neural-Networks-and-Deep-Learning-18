{
 "cells": [
  {
   "cell_type": "code",
   "execution_count": null,
   "outputs": [],
   "source": [
    "import numpy as np\n",
    "import math\n",
    "def sigmod(z):\n",
    "    return 1/(1+math.exp(-z))\n",
    "class perceptron(object):\n",
    "    def __init__(self,w,b):\n",
    "        self.w=w\n",
    "        self.b=b\n",
    "    def __call__(self,x):\n",
    "        return sigmod(np.dot(x,self.w)+self.b)\n",
    "p=perceptron([1,2,3],-4)\n",
    "output=p([1,0,1])\n",
    "print(output)\n",
    "output=p([1,1,0])\n",
    "print(output)\n",
    "\n"
   ],
   "metadata": {
    "collapsed": false,
    "pycharm": {
     "name": "#%%\n"
    }
   }
  }
 ],
 "metadata": {
  "language_info": {
   "codemirror_mode": {
    "name": "ipython",
    "version": 2
   },
   "file_extension": ".py",
   "mimetype": "text/x-python",
   "name": "python",
   "nbconvert_exporter": "python",
   "pygments_lexer": "ipython2",
   "version": "2.7.6"
  },
  "kernelspec": {
   "name": "pycharm-559c1830",
   "language": "python",
   "display_name": "PyCharm (sjwl)"
  },
  "pycharm": {
   "stem_cell": {
    "cell_type": "raw",
    "source": [],
    "metadata": {
     "collapsed": false
    }
   }
  }
 },
 "nbformat": 4,
 "nbformat_minor": 0
}