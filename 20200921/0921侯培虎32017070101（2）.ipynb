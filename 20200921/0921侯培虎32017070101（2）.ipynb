{
 "cells": [
  {
   "cell_type": "code",
   "execution_count": null,
   "outputs": [],
   "source": [
    "import pandas as pd\n",
    "import numpy as np\n",
    "df=pd.read_csv('F:/qq/WeChat Files/wxid_2lhnvjh8tqny11/FileStorage/File/2020-10/BeijingPM20100101_20151231.csv',usecols=['PM_Dongsi','PM_Dongsihuan','PM_Nongzhanguan'])\n",
    "data_arr=np.array(df.dropna(axis = 0))\n",
    "hour_val=np.mean(data_arr[:,2:],axis=1)\n",
    "n_hours=hour_val.shape[0]\n",
    "n_heavyHours=hour_val[hour_val>150].shape[0]\n",
    "print(\"重度污染占比：{:.3f}\".format(n_heavyHours/n_hours))\n",
    "n_medium_hours=hour_val[(hour_val>75) & (hour_val<=150)].shape[0]\n",
    "print(\"中度污染占比：{:.3f}\".format(n_medium_hours/n_hours))\n",
    "n_light_hours=hour_val[(hour_val > 35) & (hour_val <= 75)].shape[0]\n",
    "print(\"轻度污染占比：{:.3f}\".format(n_light_hours/n_hours))\n",
    "n_good_hours=hour_val[hour_val<=35].shape[0]\n",
    "print(\"优良空气占比：{:.3f}\".format(n_good_hours/n_hours))\n",
    "usecols=['year','month','PM_Dongsi','PM_Dongsihuan','PM_Nongzhanguan']\n",
    "data_arr=np.array(df.dropna(axis = 0))\n",
    "results=[]\n",
    "years=np.unique(data_arr[:,0])\n",
    "print(years)\n",
    "for year in years:\n",
    "    if year==2013:\n",
    "        year_data_arr=data_arr[data_arr[:,0]==year]\n",
    "        month_list=np.unique(year_data_arr[:,1])\n",
    "print(month_list)\n",
    "for month in month_list:\n",
    "    month_data_arr=year_data_arr[year_data_arr[:,1]==month]\n",
    "    means_val=np.mean(month_data_arr[:,2:],axis=0).tolist()\n",
    "    row_data=['2013-{:02.0f}'.format(month)]+means_val\n",
    "    results.append(row_data)\n",
    "for i in results:\n",
    "    print(\"时间：\"+i[0])\n",
    "    print(\"东四污染平均数：{}\".format(i[1]))\n",
    "    print(\"东四环污染平均数：{}\".format(i[2]))\n",
    "    print(\"农展馆污染平均数：{}\".format(i[3]))\n"
   ],
   "metadata": {
    "collapsed": false,
    "pycharm": {
     "name": "#%%\n"
    }
   }
  }
 ],
 "metadata": {
  "language_info": {
   "codemirror_mode": {
    "name": "ipython",
    "version": 2
   },
   "file_extension": ".py",
   "mimetype": "text/x-python",
   "name": "python",
   "nbconvert_exporter": "python",
   "pygments_lexer": "ipython2",
   "version": "2.7.6"
  },
  "kernelspec": {
   "name": "pycharm-559c1830",
   "language": "python",
   "display_name": "PyCharm (sjwl)"
  },
  "pycharm": {
   "stem_cell": {
    "cell_type": "raw",
    "source": [],
    "metadata": {
     "collapsed": false
    }
   }
  }
 },
 "nbformat": 4,
 "nbformat_minor": 0
}